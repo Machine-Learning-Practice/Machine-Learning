{
  "nbformat": 4,
  "nbformat_minor": 0,
  "metadata": {
    "colab": {
      "provenance": []
    },
    "kernelspec": {
      "name": "python3",
      "display_name": "Python 3"
    },
    "language_info": {
      "name": "python"
    }
  },
  "cells": [
    {
      "cell_type": "markdown",
      "source": [
        "Import Essential Libraries"
      ],
      "metadata": {
        "id": "MiSLa7d6QK-O"
      }
    },
    {
      "cell_type": "code",
      "execution_count": 38,
      "metadata": {
        "id": "yEBA98oNP4zN"
      },
      "outputs": [],
      "source": [
        "import pandas as pd\n",
        "import matplotlib.pyplot as plt\n",
        "import numpy as np\n",
        "import math"
      ]
    },
    {
      "cell_type": "markdown",
      "source": [
        "Import Given Functions"
      ],
      "metadata": {
        "id": "qyLw64l4QQ4r"
      }
    },
    {
      "cell_type": "code",
      "source": [
        "# Map X_train to polynomial\n",
        "\n",
        "def polynomial_feature_mapping(feature1, feature2):\n",
        "    \"\"\"\n",
        "    Feature mapping function to polynomial features\n",
        "    \"\"\"\n",
        "    feature1 = np.atleast_1d(feature1)\n",
        "    feature2 = np.atleast_1d(feature2)\n",
        "    degree = 6\n",
        "    mapped_features = []\n",
        "\n",
        "    for i in range(1, degree + 1):\n",
        "        for j in range(i + 1):\n",
        "            mapped_features.append((feature1**(i - j) * (feature2**j)))\n",
        "\n",
        "    return np.stack(mapped_features, axis=1)"
      ],
      "metadata": {
        "id": "O59VN24rP_lk"
      },
      "execution_count": 2,
      "outputs": []
    },
    {
      "cell_type": "code",
      "source": [
        "# Plot Data\n",
        "\n",
        "\n",
        "def plot_data(features, labels, positive_label=\"Label 1\", negative_label=\"Label 0\"):\n",
        "    positive_indices = labels == 1\n",
        "    negative_indices = labels == 0\n",
        "\n",
        "    # Plot examples\n",
        "    plt.plot(features[positive_indices, 0], features[positive_indices, 1], 'k+', label=positive_label)\n",
        "    plt.plot(features[negative_indices, 0], features[negative_indices, 1], 'yo', label=negative_label)"
      ],
      "metadata": {
        "id": "Rb5r2xLbQErP"
      },
      "execution_count": 3,
      "outputs": []
    },
    {
      "cell_type": "code",
      "source": [
        "# Visualize Decision Boundary\n",
        "\n",
        "def visualize_decision_boundary(weights, bias, features, labels):\n",
        "    # Credit to dibgerge on Github for this plotting code\n",
        "\n",
        "    plot_data(features[:, 0:2], labels)\n",
        "\n",
        "    if features.shape[1] <= 2:\n",
        "        plot_x = np.array([min(features[:, 0]), max(features[:, 0])])\n",
        "        plot_y = (-1. / weights[1]) * (weights[0] * plot_x + bias)\n",
        "\n",
        "        plt.plot(plot_x, plot_y, c=\"b\")\n",
        "\n",
        "    else:\n",
        "        u = np.linspace(-1, 1.5, 50)\n",
        "        v = np.linspace(-1, 1.5, 50)\n",
        "\n",
        "        z = np.zeros((len(u), len(v)))\n",
        "\n",
        "        # Evaluate z = theta*x over the grid\n",
        "        for i in range(len(u)):\n",
        "            for j in range(len(v)):\n",
        "                z[i, j] = sigmoid(np.dot(polynomial_feature_mapping(u[i], v[j]), weights) + bias)\n",
        "\n",
        "        # It's important to transpose z before calling contour\n",
        "        z = z.T\n",
        "\n",
        "        # Plot z = 0\n",
        "        plt.contour(u, v, z, levels=[0.5], colors=\"g\")"
      ],
      "metadata": {
        "id": "aPzg5edeQGbV"
      },
      "execution_count": 4,
      "outputs": []
    },
    {
      "cell_type": "markdown",
      "source": [
        "# **Question 1**"
      ],
      "metadata": {
        "id": "WOuOoVYHQeTk"
      }
    },
    {
      "cell_type": "code",
      "source": [
        "df = pd.read_csv('dataset.txt')\n",
        "X_train = df.drop('y', axis=1).values\n",
        "y_train = df['y'].values"
      ],
      "metadata": {
        "id": "X308QbSwQd5W"
      },
      "execution_count": 9,
      "outputs": []
    },
    {
      "cell_type": "code",
      "source": [
        "print(f\"The First 5 Elements of X_train:\\n {X_train[:5]}\")\n",
        "print('\\n')\n",
        "print(f\"The First 5 Elements of y_train:\\n {y_train[:5]}\")"
      ],
      "metadata": {
        "colab": {
          "base_uri": "https://localhost:8080/"
        },
        "id": "t8TOUxpWQ3x0",
        "outputId": "e366f2a1-91d7-42d7-9ab5-2886f76e69d1"
      },
      "execution_count": 13,
      "outputs": [
        {
          "output_type": "stream",
          "name": "stdout",
          "text": [
            "The First 5 Elements of X_train:\n",
            " [[ 0.051267  0.69956 ]\n",
            " [-0.092742  0.68494 ]\n",
            " [-0.21371   0.69225 ]\n",
            " [-0.375     0.50219 ]\n",
            " [-0.51325   0.46564 ]]\n",
            "\n",
            "\n",
            "The First 5 Elements of y_train:\n",
            " [1 1 1 1 1]\n"
          ]
        }
      ]
    },
    {
      "cell_type": "code",
      "source": [
        "print(f\"Shape of the X_train: {X_train.shape}\")\n",
        "print(f\"Shape of the y_train: {y_train.shape}\")"
      ],
      "metadata": {
        "colab": {
          "base_uri": "https://localhost:8080/"
        },
        "id": "ntxuWXHdRJ33",
        "outputId": "dea12f66-0550-4c51-efe7-020f587af42c"
      },
      "execution_count": 12,
      "outputs": [
        {
          "output_type": "stream",
          "name": "stdout",
          "text": [
            "Shape of the X_train: (118, 2)\n",
            "Shape of the y_train: (118,)\n"
          ]
        }
      ]
    },
    {
      "cell_type": "code",
      "source": [
        "plt.scatter(X_train[:,0], X_train[:,1], c=y_train)"
      ],
      "metadata": {
        "colab": {
          "base_uri": "https://localhost:8080/",
          "height": 447
        },
        "id": "MkV-1zE-RTOP",
        "outputId": "c21431c6-834a-4582-9c01-1c83c59df45e"
      },
      "execution_count": 15,
      "outputs": [
        {
          "output_type": "execute_result",
          "data": {
            "text/plain": [
              "<matplotlib.collections.PathCollection at 0x798b999cc250>"
            ]
          },
          "metadata": {},
          "execution_count": 15
        },
        {
          "output_type": "display_data",
          "data": {
            "text/plain": [
              "<Figure size 640x480 with 1 Axes>"
            ],
            "image/png": "[encoded data removed]"
          },
          "metadata": {}
        }
      ]
    },
    {
      "cell_type": "code",
      "source": [
        "mapped_X = polynomial_feature_mapping (X_train[:, 0], X_train[:, 1])"
      ],
      "metadata": {
        "id": "d5_D1EN_Rdy9"
      },
      "execution_count": 16,
      "outputs": []
    },
    {
      "cell_type": "code",
      "source": [
        "mapped_X[0]"
      ],
      "metadata": {
        "colab": {
          "base_uri": "https://localhost:8080/"
        },
        "id": "wvY-1oYXR0eS",
        "outputId": "e555fb1a-3816-4174-e17a-00c066cf7234"
      },
      "execution_count": 17,
      "outputs": [
        {
          "output_type": "execute_result",
          "data": {
            "text/plain": [
              "array([5.12670000e-02, 6.99560000e-01, 2.62830529e-03, 3.58643425e-02,\n",
              "       4.89384194e-01, 1.34745327e-04, 1.83865725e-03, 2.50892595e-02,\n",
              "       3.42353606e-01, 6.90798869e-06, 9.42624411e-05, 1.28625106e-03,\n",
              "       1.75514423e-02, 2.39496889e-01, 3.54151856e-07, 4.83255257e-06,\n",
              "       6.59422333e-05, 8.99809795e-04, 1.22782870e-02, 1.67542444e-01,\n",
              "       1.81563032e-08, 2.47750473e-07, 3.38066048e-06, 4.61305487e-05,\n",
              "       6.29470940e-04, 8.58939846e-03, 1.17205992e-01])"
            ]
          },
          "metadata": {},
          "execution_count": 17
        }
      ]
    },
    {
      "cell_type": "markdown",
      "source": [
        "# **Question 2**"
      ],
      "metadata": {
        "id": "14VPt_ntR_u0"
      }
    },
    {
      "cell_type": "code",
      "source": [
        "def sigmoid(z):\n",
        "\n",
        "    return 1/(1+np.exp(-z))"
      ],
      "metadata": {
        "id": "XQV_TpNaR15q"
      },
      "execution_count": 18,
      "outputs": []
    },
    {
      "cell_type": "code",
      "source": [
        "sigmoid_samples = np.array([-1, 0.5, 0, 1, 2])\n",
        "sigmoid(sigmoid_samples)"
      ],
      "metadata": {
        "colab": {
          "base_uri": "https://localhost:8080/"
        },
        "id": "JKy9djyDSOd5",
        "outputId": "635cb73c-45c3-4736-e293-d05be35002ca"
      },
      "execution_count": 21,
      "outputs": [
        {
          "output_type": "execute_result",
          "data": {
            "text/plain": [
              "array([0.26894142, 0.62245933, 0.5       , 0.73105858, 0.88079708])"
            ]
          },
          "metadata": {},
          "execution_count": 21
        }
      ]
    },
    {
      "cell_type": "markdown",
      "source": [
        "# **Question 3**"
      ],
      "metadata": {
        "id": "_42sjJ2uSt8u"
      }
    },
    {
      "cell_type": "code",
      "source": [
        "def compute_cost(X, y, w, b, lambda_ = 1):\n",
        "    \"\"\"\n",
        "    Computes the cost over all examples\n",
        "    Args:\n",
        "      X : (array_like Shape (m,n)) data, m examples by n features\n",
        "      y : (array_like Shape (m,)) target value\n",
        "      w : (array_like Shape (n,)) Values of parameters of the model\n",
        "      b : (array_like Shape (n,)) Values of bias parameter of the model\n",
        "      lambda_ : (scalar, float)    Controls amount of regularization\n",
        "    Returns:\n",
        "      total_cost: (scalar)         cost\n",
        "    \"\"\"\n",
        "\n",
        "    m, n = X.shape\n",
        "\n",
        "    # Compute Cost's First term\n",
        "    cost = 0\n",
        "    for i in range(m):\n",
        "        z = np.dot(X[i],w) + b\n",
        "        f_wb = sigmoid(z)\n",
        "        cost += -y[i]*np.log(f_wb) - (1-y[i])*np.log(1-f_wb)\n",
        "    first_cost = cost/m\n",
        "\n",
        "    # Compute Cost's Second term\n",
        "    reg_cost = 0.\n",
        "    reg_cost = sum(np.square(w))\n",
        "\n",
        "    # Add the regularization cost to get the total cost\n",
        "    total_cost = first_cost + (lambda_/(2 * m)) * reg_cost\n",
        "\n",
        "    return total_cost"
      ],
      "metadata": {
        "id": "PKNQj3b7Sf8A"
      },
      "execution_count": 40,
      "outputs": []
    },
    {
      "cell_type": "code",
      "source": [
        "np.random.seed(1)\n",
        "initial_w = np.array([0.2, 0.2])\n",
        "initial_b = -24\n",
        "lambda_ = 1\n",
        "cost = compute_cost(X_train, y_train, initial_w, initial_b, lambda_)\n",
        "print(\"Regularized cost :\", cost)"
      ],
      "metadata": {
        "colab": {
          "base_uri": "https://localhost:8080/"
        },
        "id": "b71g0Op4ST8x",
        "outputId": "c043751a-2f7d-4e70-a0a3-7b66a6fefd4a"
      },
      "execution_count": 41,
      "outputs": [
        {
          "output_type": "stream",
          "name": "stdout",
          "text": [
            "Regularized cost : 11.776934278684013\n"
          ]
        }
      ]
    },
    {
      "cell_type": "markdown",
      "source": [
        "# **Question 4**"
      ],
      "metadata": {
        "id": "Kn3T0J56U4Bw"
      }
    },
    {
      "cell_type": "code",
      "source": [
        "def compute_gradient(X, y, w, b, lambda_ = 1):\n",
        "    \"\"\"\n",
        "    Computes the gradient for linear regression\n",
        "\n",
        "    Args:\n",
        "      X : (ndarray Shape (m,n))   variable such as house size\n",
        "      y : (ndarray Shape (m,))    actual value\n",
        "      w : (ndarray Shape (n,))    values of parameters of the model\n",
        "      b : (scalar)                value of parameter of the model\n",
        "      lambda_ : (scalar,float)    regularization constant\n",
        "    Returns\n",
        "      dj_db: (scalar)             The gradient of the cost w.r.t. the parameter b.\n",
        "      dj_dw: (ndarray Shape (n,)) The gradient of the cost w.r.t. the parameters w.\n",
        "\n",
        "    \"\"\"\n",
        "\n",
        "    m, n = X.shape\n",
        "    dj_dw = np.zeros(w.shape)\n",
        "    dj_db = 0.\n",
        "\n",
        "    # Compute Gradent's First Term\n",
        "    for i in range(m):\n",
        "        f_wb_i = sigmoid(np.dot(X[i],w) + b)\n",
        "        err_i  = f_wb_i  - y[i]\n",
        "        for j in range(n):\n",
        "            dj_dw[j] = dj_dw[j] + err_i * X[i,j]\n",
        "        dj_db = dj_db + err_i\n",
        "    dj_dw = dj_dw/m\n",
        "    dj_db = dj_db/m\n",
        "\n",
        "    # Compute Gradent's Second Term\n",
        "    for j in range(n):\n",
        "        dj_dw[j] = dj_dw[j] + (lambda_/m) * w[j]\n",
        "\n",
        "    return dj_db, dj_dw"
      ],
      "metadata": {
        "id": "PExxp6J7UJzY"
      },
      "execution_count": 30,
      "outputs": []
    },
    {
      "cell_type": "code",
      "source": [
        "initial_w  = np.array([0, 0])\n",
        "initial_b = 0\n",
        "\n",
        "lambda_ = 1\n",
        "dj_db, dj_dw = compute_gradient(X_train, y_train, initial_w, initial_b, lambda_)\n",
        "\n",
        "print(f\"dj_db: {dj_db}\")\n",
        "print(f\"Elements of regularized dj_dw:\\n {dj_dw.tolist()}\")"
      ],
      "metadata": {
        "colab": {
          "base_uri": "https://localhost:8080/"
        },
        "id": "K65BFhP8VdEN",
        "outputId": "868bf933-9ce6-4c87-d90e-00d8b8b8029e"
      },
      "execution_count": 37,
      "outputs": [
        {
          "output_type": "stream",
          "name": "stdout",
          "text": [
            "dj_db: 0.00847457627118644\n",
            "Elements of regularized dj_dw:\n",
            " [0.01878809322033899, 7.777118644068388e-05]\n"
          ]
        }
      ]
    },
    {
      "cell_type": "markdown",
      "source": [
        "# **Question 5**"
      ],
      "metadata": {
        "id": "C83Sb6-qWSU0"
      }
    },
    {
      "cell_type": "code",
      "source": [
        "def gradient_descent(X, y, w_in, b_in, cost_function, gradient_function, alpha, num_iters, lambda_):\n",
        "    \"\"\"\n",
        "    Performs batch gradient descent to learn theta. Updates theta by taking\n",
        "    num_iters gradient steps with learning rate alpha\n",
        "\n",
        "    Args:\n",
        "      X :    (array_like Shape (m, n)\n",
        "      y :    (array_like Shape (m,))\n",
        "      w_in : (array_like Shape (n,))  Initial values of parameters of the model\n",
        "      b_in : (scalar)                 Initial value of parameter of the model\n",
        "      cost_function:                  function to compute cost\n",
        "      alpha : (float)                 Learning rate\n",
        "      num_iters : (int)               number of iterations to run gradient descent\n",
        "      lambda_ (scalar, float)         regularization constant\n",
        "\n",
        "    Returns:\n",
        "      w : (array_like Shape (n,)) Updated values of parameters of the model after\n",
        "          running gradient descent\n",
        "      b : (scalar)                Updated value of parameter of the model after\n",
        "          running gradient descent\n",
        "    \"\"\"\n",
        "\n",
        "    m = len(X)\n",
        "\n",
        "    J_history = []\n",
        "\n",
        "    for i in range(num_iters):\n",
        "\n",
        "        dj_db, dj_dw = gradient_function(X, y, w_in, b_in, lambda_)\n",
        "\n",
        "        w_in = w_in - alpha * dj_dw\n",
        "        b_in = b_in - alpha * dj_db\n",
        "\n",
        "        # Save cost J at each iteration\n",
        "        if i<100000:      # prevent resource exhaustion\n",
        "            cost =  cost_function(X, y, w_in, b_in, lambda_)\n",
        "            J_history.append(cost)\n",
        "\n",
        "        # Print cost every at intervals 10 times or as many iterations if < 10\n",
        "        if i% math.ceil(num_iters/10) == 0 or i == (num_iters-1):\n",
        "            print(f\"Iteration {i:4}: Cost {float(J_history[-1]):8.2f}   \")\n",
        "\n",
        "    return w_in, b_in, J_history"
      ],
      "metadata": {
        "id": "RkCyRtf_WKD4"
      },
      "execution_count": 44,
      "outputs": []
    },
    {
      "cell_type": "code",
      "source": [
        "# Shape of the Features\n",
        "new_shape = mapped_X.shape[1]\n",
        "\n",
        "# Initialize parameters\n",
        "initial_w = np.zeros(new_shape)\n",
        "initial_b = 0.\n",
        "\n",
        "lambda_ = 0.01\n",
        "iterations = 10000\n",
        "alpha = 0.01\n",
        "\n",
        "w,b, _ = gradient_descent(mapped_X, y_train, initial_w, initial_b,\n",
        "                                    compute_cost, compute_gradient,\n",
        "                                    alpha, iterations, lambda_)"
      ],
      "metadata": {
        "colab": {
          "base_uri": "https://localhost:8080/"
        },
        "id": "8frUWrRhW1u_",
        "outputId": "f4344cd4-3910-4415-be07-1741c6a073a2"
      },
      "execution_count": 45,
      "outputs": [
        {
          "output_type": "stream",
          "name": "stdout",
          "text": [
            "Iteration    0: Cost     0.69   \n",
            "Iteration 1000: Cost     0.62   \n",
            "Iteration 2000: Cost     0.58   \n",
            "Iteration 3000: Cost     0.55   \n",
            "Iteration 4000: Cost     0.53   \n",
            "Iteration 5000: Cost     0.51   \n",
            "Iteration 6000: Cost     0.50   \n",
            "Iteration 7000: Cost     0.48   \n",
            "Iteration 8000: Cost     0.47   \n",
            "Iteration 9000: Cost     0.46   \n",
            "Iteration 9999: Cost     0.45   \n"
          ]
        }
      ]
    },
    {
      "cell_type": "markdown",
      "source": [
        "# **Question 6**"
      ],
      "metadata": {
        "id": "h3UgkPGjYIyu"
      }
    },
    {
      "cell_type": "code",
      "source": [
        "visualize_decision_boundary(w, b, mapped_X, y_train)"
      ],
      "metadata": {
        "colab": {
          "base_uri": "https://localhost:8080/",
          "height": 435
        },
        "id": "CDDy_a1YV5dN",
        "outputId": "b18b0cfe-728b-4b99-dc41-64361398b07b"
      },
      "execution_count": 46,
      "outputs": [
        {
          "output_type": "display_data",
          "data": {
            "text/plain": [
              "<Figure size 640x480 with 1 Axes>"
            ],
            "image/png": "[encoded data removed]"
          },
          "metadata": {}
        }
      ]
    },
    {
      "cell_type": "code",
      "source": [],
      "metadata": {
        "id": "TaUEiWFqRCJA"
      },
      "execution_count": null,
      "outputs": []
    },
    {
      "cell_type": "code",
      "source": [],
      "metadata": {
        "id": "LxG-jth2QH2t"
      },
      "execution_count": null,
      "outputs": []
    }
  ]
}